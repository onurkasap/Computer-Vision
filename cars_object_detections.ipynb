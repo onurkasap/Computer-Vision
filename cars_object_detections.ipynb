{
  "nbformat": 4,
  "nbformat_minor": 0,
  "metadata": {
    "colab": {
      "provenance": [],
      "gpuType": "T4",
      "name": "cars_object-detections.ipynb",
      "authorship_tag": "ABX9TyOMIj3YSr1u25GTfcT7d+tO",
      "include_colab_link": true
    },
    "kernelspec": {
      "name": "python3",
      "display_name": "Python 3"
    },
    "language_info": {
      "name": "python"
    },
    "accelerator": "GPU"
  },
  "cells": [
    {
      "cell_type": "markdown",
      "metadata": {
        "id": "view-in-github",
        "colab_type": "text"
      },
      "source": [
        "<a href=\"https://colab.research.google.com/github/onurkasap/Computer-Vision/blob/main/cars_object_detections.ipynb\" target=\"_parent\"><img src=\"https://colab.research.google.com/assets/colab-badge.svg\" alt=\"Open In Colab\"/></a>"
      ]
    },
    {
      "cell_type": "code",
      "execution_count": null,
      "metadata": {
        "id": "pC70WK7HGl15"
      },
      "outputs": [],
      "source": [
        "!pip install ultralytics -q\n",
        "!pip install opencv-python-headless -q"
      ]
    },
    {
      "cell_type": "markdown",
      "source": [
        "# Library"
      ],
      "metadata": {
        "id": "iKsjpkvDH3iz"
      }
    },
    {
      "cell_type": "code",
      "source": [
        "import cv2\n",
        "import numpy as np\n",
        "from ultralytics import YOLO\n",
        "from collections import defaultdict\n",
        "from google.colab import files\n",
        "from IPython.display import HTML\n",
        "from base64 import b64encode\n",
        "import os"
      ],
      "metadata": {
        "id": "k6Oxn6NlHVu-"
      },
      "execution_count": null,
      "outputs": []
    },
    {
      "cell_type": "code",
      "source": [
        "print(\"Your files upload:\")\n",
        "#uploaded = files.upload()\n",
        "video_path = 'cars1.mp4'\n",
        "\n",
        "#video_path = list(uploaded.keys())[0]"
      ],
      "metadata": {
        "colab": {
          "base_uri": "https://localhost:8080/"
        },
        "id": "StPfxlyHH1Li",
        "outputId": "b4005ac2-4f1c-45e9-e201-afc86ee6eb69"
      },
      "execution_count": null,
      "outputs": [
        {
          "output_type": "stream",
          "name": "stdout",
          "text": [
            "Your files upload:\n"
          ]
        }
      ]
    },
    {
      "cell_type": "code",
      "source": [
        "if not os.path.exists(video_path):\n",
        "    print(f\"ERROR: '{video_path}' NOT FOUND!\")\n",
        "    print(\"Available files:\")\n",
        "    print(os.listdir())\n",
        "else:\n",
        "    print(f\"Video found: {video_path}\")\n"
      ],
      "metadata": {
        "colab": {
          "base_uri": "https://localhost:8080/"
        },
        "id": "JOuQnp1AoTA-",
        "outputId": "caf43a2c-8382-40bd-cac6-11e13e1c54b2"
      },
      "execution_count": null,
      "outputs": [
        {
          "output_type": "stream",
          "name": "stdout",
          "text": [
            "Video found: cars1.mp4\n"
          ]
        }
      ]
    },
    {
      "cell_type": "code",
      "source": [
        "print(f\"✅ Installed video: {video_path}\\n\")"
      ],
      "metadata": {
        "colab": {
          "base_uri": "https://localhost:8080/"
        },
        "id": "-RE4LWgHKCHS",
        "outputId": "ffdf5997-1e65-406c-c4f5-ac3efe2b6c33"
      },
      "execution_count": null,
      "outputs": [
        {
          "output_type": "stream",
          "name": "stdout",
          "text": [
            "✅ Installed video: cars1.mp4\n",
            "\n"
          ]
        }
      ]
    },
    {
      "cell_type": "code",
      "source": [
        "print(\"Yolo install\")\n",
        "model = YOLO('yolov8n.pt')"
      ],
      "metadata": {
        "colab": {
          "base_uri": "https://localhost:8080/"
        },
        "id": "RMmVcOavJX-4",
        "outputId": "0916847d-3a8f-447c-85f3-a35f91dbe36d"
      },
      "execution_count": null,
      "outputs": [
        {
          "output_type": "stream",
          "name": "stdout",
          "text": [
            "Yolo install\n"
          ]
        }
      ]
    },
    {
      "cell_type": "markdown",
      "source": [
        "# Vehicle Counting System"
      ],
      "metadata": {
        "id": "Ux8IHXHEJp7V"
      }
    },
    {
      "cell_type": "code",
      "source": [
        "class VehicleCounter:\n",
        "  def __init__(self, line_position=0.5):\n",
        "    self.going_count = 0\n",
        "    self.coming_count = 0\n",
        "    self.tracked_objects = {}\n",
        "    self.line_position = line_position\n",
        "    self.counted_ids = set()\n",
        "\n",
        "  def update(self, detections, frame_height):\n",
        "    line_y = int(frame_height * self.line_position)\n",
        "\n",
        "    for detection in detections:\n",
        "      x1, y1, x2, y2 = detection['bbox']\n",
        "      object_id = detection['id']\n",
        "\n",
        "      # if center point counting\n",
        "      #center_y = (y1 + y2) / 2\n",
        "\n",
        "      bottom_y = y2\n",
        "      top_y = y1\n",
        "\n",
        "      if object_id in self.tracked_objects:  #Önce önceki konum var mı?\n",
        "        prev_bottom, prev_top = self.tracked_objects[object_id]\n",
        "\n",
        "        if object_id not in self.counted_ids:\n",
        "          if prev_bottom < line_y and bottom_y >= line_y:\n",
        "            self.going_count += 1\n",
        "            self.counted_ids.add(object_id)\n",
        "            print(f\" GOING: Total: {self.going_count}\")\n",
        "\n",
        "          elif prev_top > line_y and top_y <= line_y:\n",
        "            self.coming_count += 1\n",
        "            self.counted_ids.add(object_id)\n",
        "            print(f\" COMING: Total: {self.coming_count}\")\n",
        "\n",
        "      self.tracked_objects[object_id]= (bottom_y, top_y)\n",
        "\n",
        "    return line_y\n"
      ],
      "metadata": {
        "id": "dNiy10UFJ0K3"
      },
      "execution_count": null,
      "outputs": []
    },
    {
      "cell_type": "code",
      "source": [
        "def draw_info(frame, counter, line_y):\n",
        "  h, w = frame.shape[:2]\n",
        "\n",
        "  # Count line\n",
        "  cv2.line(frame, (0, line_y), (w, line_y), (0, 255, 255), 3)\n",
        "  cv2.putText(frame, 'COUNT LINE', (10, line_y - 10),\n",
        "              cv2.FONT_HERSHEY_SIMPLEX, 0.7, (0,255,255),2)\n",
        "\n",
        "  cv2.rectangle(frame, (w - 350, 10), (w - 10, 120), (0, 0, 0), -1)\n",
        "  cv2.rectangle(frame, (w - 350, 10), (w - 10, 120), (255, 255, 255), 2)\n",
        "\n",
        "  # GOING - GREEN\n",
        "  cv2.putText(frame, f\"GOING: {counter.going_count}\", (w - 330, 50),\n",
        "              cv2.FONT_HERSHEY_SIMPLEX, 1, (0, 255, 0), 3)\n",
        "\n",
        "  # COMING - RED\n",
        "  cv2.putText(frame, f\"COMING: {counter.coming_count}\", (w - 330, 95),\n",
        "              cv2.FONT_HERSHEY_SIMPLEX, 1, (0, 100, 255), 3)\n",
        "\n",
        "\n",
        "  return frame\n"
      ],
      "metadata": {
        "id": "oypdLqnZOeVI"
      },
      "execution_count": null,
      "outputs": []
    },
    {
      "cell_type": "markdown",
      "source": [
        "# VIDEO PROCESSING"
      ],
      "metadata": {
        "id": "KGw5nvgPPlAQ"
      }
    },
    {
      "cell_type": "code",
      "source": [
        "cap = cv2.VideoCapture(video_path)\n",
        "fps = int(cap.get(cv2.CAP_PROP_FPS))\n",
        "width = int(cap.get(cv2.CAP_PROP_FRAME_WIDTH))\n",
        "height = int(cap.get(cv2.CAP_PROP_FRAME_HEIGHT))\n",
        "total_frames = int(cap.get(cv2.CAP_PROP_FRAME_COUNT))\n",
        "\n",
        "output_path = 'output_vehicle_count.mp4'\n",
        "fourcc = cv2.VideoWriter_fourcc(*'mp4v')\n",
        "out = cv2.VideoWriter(output_path, fourcc, fps, (width, height))\n",
        "\n",
        "# Create Counter\n",
        "counter = VehicleCounter(line_position=0.5)\n",
        "frame_count = 0\n",
        "\n",
        "while cap.isOpened():\n",
        "  ret, frame = cap.read()\n",
        "  if not ret:\n",
        "    break\n",
        "\n",
        "  frame_count += 1\n",
        "\n",
        "  results = model.track(frame, persist= True, verbose=False,\n",
        "                        classes=[2, 3, 5, 7])\n",
        "  detections = []\n",
        "  if results[0].boxes is not None and results[0].boxes.id is not None:\n",
        "    boxes = results[0].boxes.xyxy.cpu().numpy()\n",
        "    ids = results[0].boxes.id.cpu().numpy().astype(int)\n",
        "    classes = results[0].boxes.cls.cpu().numpy().astype(int)\n",
        "\n",
        "    for box, obj_id, cls in zip(boxes, ids, classes):\n",
        "      x1, y1, x2, y2 = box\n",
        "      detections.append({\n",
        "          'bbox': (int(x1), int(y1), int(x2), int(y2)),\n",
        "          'id': obj_id,\n",
        "          'class': cls\n",
        "      })\n",
        "\n",
        "      #Bounding Box\n",
        "      cv2.rectangle(frame, (int(x1), int(y1)), (int(x2), int(y2)), (0, 0, 255), 2)\n",
        "      cv2.putText(frame, f\"ID:{obj_id}\", (int(x1), int(y1)-10),\n",
        "                  cv2.FONT_HERSHEY_SIMPLEX, 0.5, (0,255,0), 2)\n",
        "\n",
        "\n",
        "  # Update Counter\n",
        "  line_y = counter.update(detections, height)\n",
        "\n",
        "  # Information Line\n",
        "  frame = draw_info(frame, counter, line_y)\n",
        "\n",
        "  # Save the frame\n",
        "  out.write(frame)\n",
        "\n",
        "  # View Forward\n",
        "  if frame_count % 30 == 0:\n",
        "    progress = (frame_count / total_frames) * 100\n",
        "    print(f\" Processing: {progress:.1f}% - Goes: {counter.going_count}, Comes: {counter.coming_count}\")\n",
        "\n",
        "cap.release()\n",
        "out.release()"
      ],
      "metadata": {
        "id": "0hrGqQQsPiZM",
        "colab": {
          "base_uri": "https://localhost:8080/"
        },
        "outputId": "31e1f6b8-5144-490e-d48d-0fe7dba53f5b"
      },
      "execution_count": null,
      "outputs": [
        {
          "output_type": "stream",
          "name": "stdout",
          "text": [
            " GOING: Total: 1\n",
            " GOING: Total: 2\n",
            " COMING: Total: 1\n",
            " GOING: Total: 3\n",
            " Processing: 1.7% - Goes: 3, Comes: 1\n",
            " COMING: Total: 2\n",
            " COMING: Total: 3\n",
            " GOING: Total: 4\n",
            " Processing: 3.3% - Goes: 4, Comes: 3\n",
            " COMING: Total: 4\n",
            " GOING: Total: 5\n",
            " COMING: Total: 5\n",
            " GOING: Total: 6\n",
            " Processing: 5.0% - Goes: 6, Comes: 5\n",
            " GOING: Total: 7\n",
            " COMING: Total: 6\n",
            " GOING: Total: 8\n",
            " COMING: Total: 7\n",
            " COMING: Total: 8\n",
            " Processing: 6.7% - Goes: 8, Comes: 8\n",
            " COMING: Total: 9\n",
            " COMING: Total: 10\n",
            " COMING: Total: 11\n",
            " Processing: 8.3% - Goes: 8, Comes: 11\n",
            " COMING: Total: 12\n",
            " Processing: 10.0% - Goes: 8, Comes: 12\n",
            " GOING: Total: 9\n",
            " COMING: Total: 13\n",
            " COMING: Total: 14\n",
            " GOING: Total: 10\n",
            " Processing: 11.7% - Goes: 10, Comes: 14\n",
            " COMING: Total: 15\n",
            " Processing: 13.3% - Goes: 10, Comes: 15\n",
            " COMING: Total: 16\n",
            " COMING: Total: 17\n",
            " COMING: Total: 18\n",
            " Processing: 15.0% - Goes: 10, Comes: 18\n",
            " GOING: Total: 11\n",
            " COMING: Total: 19\n",
            " COMING: Total: 20\n",
            " GOING: Total: 12\n",
            " COMING: Total: 21\n",
            " Processing: 16.7% - Goes: 12, Comes: 21\n",
            " GOING: Total: 13\n",
            " COMING: Total: 22\n",
            " GOING: Total: 14\n",
            " COMING: Total: 23\n",
            " Processing: 18.3% - Goes: 14, Comes: 23\n",
            " COMING: Total: 24\n",
            " Processing: 20.0% - Goes: 14, Comes: 24\n",
            " GOING: Total: 15\n",
            " COMING: Total: 25\n",
            " COMING: Total: 26\n",
            " COMING: Total: 27\n",
            " COMING: Total: 28\n",
            " GOING: Total: 16\n",
            " GOING: Total: 17\n",
            " GOING: Total: 18\n",
            " Processing: 21.7% - Goes: 18, Comes: 28\n",
            " GOING: Total: 19\n",
            " COMING: Total: 29\n",
            " COMING: Total: 30\n",
            " Processing: 23.3% - Goes: 19, Comes: 30\n",
            " COMING: Total: 31\n",
            " GOING: Total: 20\n",
            " Processing: 25.0% - Goes: 20, Comes: 31\n",
            " GOING: Total: 21\n",
            " COMING: Total: 32\n",
            " COMING: Total: 33\n",
            " Processing: 26.7% - Goes: 21, Comes: 33\n",
            " GOING: Total: 22\n",
            " COMING: Total: 34\n",
            " GOING: Total: 23\n",
            " Processing: 28.3% - Goes: 23, Comes: 34\n",
            " GOING: Total: 24\n",
            " COMING: Total: 35\n",
            " GOING: Total: 25\n",
            " COMING: Total: 36\n",
            " COMING: Total: 37\n",
            " Processing: 30.0% - Goes: 25, Comes: 37\n",
            " COMING: Total: 38\n",
            " GOING: Total: 26\n",
            " COMING: Total: 39\n",
            " GOING: Total: 27\n",
            " Processing: 31.7% - Goes: 27, Comes: 39\n",
            " COMING: Total: 40\n",
            " GOING: Total: 28\n",
            " Processing: 33.3% - Goes: 28, Comes: 40\n",
            " GOING: Total: 29\n",
            " COMING: Total: 41\n",
            " GOING: Total: 30\n",
            " COMING: Total: 42\n",
            " GOING: Total: 31\n",
            " GOING: Total: 32\n",
            " Processing: 35.0% - Goes: 32, Comes: 42\n",
            " GOING: Total: 33\n",
            " COMING: Total: 43\n",
            " GOING: Total: 34\n",
            " GOING: Total: 35\n",
            " Processing: 36.7% - Goes: 35, Comes: 43\n",
            " COMING: Total: 44\n",
            " COMING: Total: 45\n",
            " GOING: Total: 36\n",
            " GOING: Total: 37\n",
            " COMING: Total: 46\n",
            " COMING: Total: 47\n",
            " Processing: 38.3% - Goes: 37, Comes: 47\n",
            " GOING: Total: 38\n",
            " GOING: Total: 39\n",
            " GOING: Total: 40\n",
            " COMING: Total: 48\n",
            " GOING: Total: 41\n",
            " COMING: Total: 49\n",
            " GOING: Total: 42\n",
            " Processing: 40.0% - Goes: 42, Comes: 49\n",
            " GOING: Total: 43\n",
            " COMING: Total: 50\n",
            " Processing: 41.7% - Goes: 43, Comes: 50\n",
            " GOING: Total: 44\n",
            " COMING: Total: 51\n",
            " GOING: Total: 45\n",
            " GOING: Total: 46\n",
            " Processing: 43.3% - Goes: 46, Comes: 51\n",
            " GOING: Total: 47\n",
            " COMING: Total: 52\n",
            " COMING: Total: 53\n",
            " GOING: Total: 48\n",
            " Processing: 45.0% - Goes: 48, Comes: 53\n",
            " COMING: Total: 54\n",
            " GOING: Total: 49\n",
            " Processing: 46.7% - Goes: 49, Comes: 54\n",
            " GOING: Total: 50\n",
            " GOING: Total: 51\n",
            " Processing: 48.3% - Goes: 51, Comes: 54\n",
            " GOING: Total: 52\n",
            " COMING: Total: 55\n",
            " Processing: 50.0% - Goes: 52, Comes: 55\n",
            " GOING: Total: 53\n",
            " COMING: Total: 56\n",
            " GOING: Total: 54\n",
            " COMING: Total: 57\n",
            " Processing: 51.7% - Goes: 54, Comes: 57\n",
            " GOING: Total: 55\n",
            " GOING: Total: 56\n",
            " COMING: Total: 58\n",
            " Processing: 53.3% - Goes: 56, Comes: 58\n",
            " COMING: Total: 59\n",
            " GOING: Total: 57\n",
            " GOING: Total: 58\n",
            " GOING: Total: 59\n",
            " Processing: 55.0% - Goes: 59, Comes: 59\n",
            " GOING: Total: 60\n",
            " COMING: Total: 60\n",
            " COMING: Total: 61\n",
            " Processing: 56.7% - Goes: 60, Comes: 61\n",
            " COMING: Total: 62\n",
            " GOING: Total: 61\n",
            " GOING: Total: 62\n",
            " GOING: Total: 63\n",
            " COMING: Total: 63\n",
            " Processing: 58.3% - Goes: 63, Comes: 63\n",
            " GOING: Total: 64\n",
            " COMING: Total: 64\n",
            " GOING: Total: 65\n",
            " Processing: 60.0% - Goes: 65, Comes: 64\n",
            " GOING: Total: 66\n",
            " COMING: Total: 65\n",
            " GOING: Total: 67\n",
            " GOING: Total: 68\n",
            " Processing: 61.7% - Goes: 68, Comes: 65\n",
            " COMING: Total: 66\n",
            " COMING: Total: 67\n",
            " GOING: Total: 69\n",
            " COMING: Total: 68\n",
            " GOING: Total: 70\n",
            " Processing: 63.3% - Goes: 70, Comes: 68\n",
            " COMING: Total: 69\n",
            " COMING: Total: 70\n",
            " GOING: Total: 71\n",
            " Processing: 65.0% - Goes: 71, Comes: 70\n",
            " COMING: Total: 71\n",
            " COMING: Total: 72\n",
            " GOING: Total: 72\n",
            " Processing: 66.7% - Goes: 72, Comes: 72\n",
            " GOING: Total: 73\n",
            " Processing: 68.3% - Goes: 73, Comes: 72\n",
            " COMING: Total: 73\n",
            " COMING: Total: 74\n",
            " COMING: Total: 75\n",
            " Processing: 70.0% - Goes: 73, Comes: 75\n",
            " GOING: Total: 74\n",
            " GOING: Total: 75\n",
            " COMING: Total: 76\n",
            " Processing: 71.7% - Goes: 75, Comes: 76\n",
            " GOING: Total: 76\n",
            " COMING: Total: 77\n",
            " COMING: Total: 78\n",
            " COMING: Total: 79\n",
            " COMING: Total: 80\n",
            " GOING: Total: 77\n",
            " Processing: 73.3% - Goes: 77, Comes: 80\n",
            " COMING: Total: 81\n",
            " COMING: Total: 82\n",
            " COMING: Total: 83\n",
            " GOING: Total: 78\n",
            " Processing: 75.0% - Goes: 78, Comes: 83\n",
            " GOING: Total: 79\n",
            " Processing: 76.7% - Goes: 79, Comes: 83\n",
            " GOING: Total: 80\n",
            " GOING: Total: 81\n",
            " COMING: Total: 84\n",
            " Processing: 78.3% - Goes: 81, Comes: 84\n",
            " GOING: Total: 82\n",
            " GOING: Total: 83\n",
            " GOING: Total: 84\n",
            " Processing: 80.0% - Goes: 84, Comes: 84\n",
            " COMING: Total: 85\n",
            " GOING: Total: 85\n",
            " COMING: Total: 86\n",
            " COMING: Total: 87\n",
            " COMING: Total: 88\n",
            " Processing: 81.7% - Goes: 85, Comes: 88\n",
            " GOING: Total: 86\n",
            " COMING: Total: 89\n",
            " COMING: Total: 90\n",
            " Processing: 83.3% - Goes: 86, Comes: 90\n",
            " GOING: Total: 87\n",
            " COMING: Total: 91\n",
            " GOING: Total: 88\n",
            " COMING: Total: 92\n",
            " Processing: 85.0% - Goes: 88, Comes: 92\n",
            " COMING: Total: 93\n",
            " GOING: Total: 89\n",
            " Processing: 86.7% - Goes: 89, Comes: 93\n",
            " COMING: Total: 94\n",
            " GOING: Total: 90\n",
            " COMING: Total: 95\n",
            " Processing: 88.3% - Goes: 90, Comes: 95\n",
            " Processing: 90.0% - Goes: 90, Comes: 95\n",
            " GOING: Total: 91\n",
            " COMING: Total: 96\n",
            " COMING: Total: 97\n",
            " COMING: Total: 98\n",
            " GOING: Total: 92\n",
            " Processing: 91.7% - Goes: 92, Comes: 98\n",
            " COMING: Total: 99\n",
            " COMING: Total: 100\n",
            " Processing: 93.3% - Goes: 92, Comes: 100\n",
            " GOING: Total: 93\n",
            " GOING: Total: 94\n",
            " Processing: 95.0% - Goes: 94, Comes: 100\n",
            " COMING: Total: 101\n",
            " COMING: Total: 102\n",
            " GOING: Total: 95\n",
            " COMING: Total: 103\n",
            " Processing: 96.7% - Goes: 95, Comes: 103\n",
            " COMING: Total: 104\n",
            " GOING: Total: 96\n",
            " COMING: Total: 105\n",
            " GOING: Total: 97\n",
            " COMING: Total: 106\n",
            " Processing: 98.3% - Goes: 97, Comes: 106\n",
            " COMING: Total: 107\n",
            " GOING: Total: 98\n",
            " COMING: Total: 108\n",
            " Processing: 100.0% - Goes: 98, Comes: 108\n"
          ]
        }
      ]
    },
    {
      "cell_type": "code",
      "source": [
        "print(\"\\nCompleted video processing!\")\n",
        "print(f\"RESULTS:\")\n",
        "print(f\"  Going Cars: {counter.going_count}\")\n",
        "print(f\"  Coming Cars: {counter.coming_count}\")\n",
        "print(f\"  TOTAL: {counter.going_count + counter.coming_count}\")"
      ],
      "metadata": {
        "id": "RZM-9lSAUwcX",
        "colab": {
          "base_uri": "https://localhost:8080/"
        },
        "outputId": "b9da9d5d-1ba4-49a7-a8e1-a969013f81ad"
      },
      "execution_count": null,
      "outputs": [
        {
          "output_type": "stream",
          "name": "stdout",
          "text": [
            "\n",
            "Completed video processing!\n",
            "RESULTS:\n",
            "  Going Cars: 98\n",
            "  Coming Cars: 108\n",
            "  TOTAL: 206\n"
          ]
        }
      ]
    },
    {
      "cell_type": "code",
      "source": [
        "print(\"\\n📺 Prepare the video...\")\n",
        "\n",
        "# Download the video\n",
        "from google.colab import files\n",
        "files.download(output_path)\n",
        "\n",
        "\n",
        "# Playing Colab\n",
        "mp4 = open(output_path, 'rb').read()\n",
        "data_url = \"data:video/mp4;base64,\" + b64encode(mp4).decode()\n",
        "HTML(f\"\"\"\n",
        "<div style=\"text-align: center;\">\n",
        "  <h2>✅ Process Video</h2>\n",
        "  <video width=\"800\" controls>\n",
        "    <source src=\"{data_url}\" type=\"video/mp4\">\n",
        "  </video>\n",
        "  <p><b>Going:</b> {counter.going_count} | <b>Coming:</b> {counter.coming_count} | <b>Toplam:</b> {counter.going_count + counter.coming_count}</p>\n",
        "</div>\n",
        "\"\"\")\n"
      ],
      "metadata": {
        "colab": {
          "base_uri": "https://localhost:8080/",
          "height": 69
        },
        "id": "yCVJ4Dx-VwK6",
        "outputId": "49e3f3c3-4fb3-44a1-9534-3eff5e04e957"
      },
      "execution_count": null,
      "outputs": [
        {
          "output_type": "stream",
          "name": "stdout",
          "text": [
            "\n",
            "📺 Prepare video...\n"
          ]
        },
        {
          "output_type": "display_data",
          "data": {
            "text/plain": [
              "<IPython.core.display.Javascript object>"
            ],
            "application/javascript": [
              "\n",
              "    async function download(id, filename, size) {\n",
              "      if (!google.colab.kernel.accessAllowed) {\n",
              "        return;\n",
              "      }\n",
              "      const div = document.createElement('div');\n",
              "      const label = document.createElement('label');\n",
              "      label.textContent = `Downloading \"${filename}\": `;\n",
              "      div.appendChild(label);\n",
              "      const progress = document.createElement('progress');\n",
              "      progress.max = size;\n",
              "      div.appendChild(progress);\n",
              "      document.body.appendChild(div);\n",
              "\n",
              "      const buffers = [];\n",
              "      let downloaded = 0;\n",
              "\n",
              "      const channel = await google.colab.kernel.comms.open(id);\n",
              "      // Send a message to notify the kernel that we're ready.\n",
              "      channel.send({})\n",
              "\n",
              "      for await (const message of channel.messages) {\n",
              "        // Send a message to notify the kernel that we're ready.\n",
              "        channel.send({})\n",
              "        if (message.buffers) {\n",
              "          for (const buffer of message.buffers) {\n",
              "            buffers.push(buffer);\n",
              "            downloaded += buffer.byteLength;\n",
              "            progress.value = downloaded;\n",
              "          }\n",
              "        }\n",
              "      }\n",
              "      const blob = new Blob(buffers, {type: 'application/binary'});\n",
              "      const a = document.createElement('a');\n",
              "      a.href = window.URL.createObjectURL(blob);\n",
              "      a.download = filename;\n",
              "      div.appendChild(a);\n",
              "      a.click();\n",
              "      div.remove();\n",
              "    }\n",
              "  "
            ]
          },
          "metadata": {}
        },
        {
          "output_type": "display_data",
          "data": {
            "text/plain": [
              "<IPython.core.display.Javascript object>"
            ],
            "application/javascript": [
              "download(\"download_84c762d3-9300-4a40-8c2c-f26eed418b11\", \"output_vehicle_count.mp4\", 145809580)"
            ]
          },
          "metadata": {}
        }
      ]
    }
  ]
}